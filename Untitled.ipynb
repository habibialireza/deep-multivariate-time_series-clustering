{
  "cells": [
    {
      "cell_type": "code",
      "source": [
        "\n",
        "\n",
        "!pip install kmeans-pytorch\n",
        "\n"
      ],
      "metadata": {
        "colab": {
          "base_uri": "https://localhost:8080/"
        },
        "id": "Qepp0gxPhTo0",
        "outputId": "2fba2f2b-ae24-407f-d3a2-0a0da81f4e5c"
      },
      "id": "Qepp0gxPhTo0",
      "execution_count": null,
      "outputs": [
        {
          "output_type": "stream",
          "name": "stdout",
          "text": [
            "Looking in indexes: https://pypi.org/simple, https://us-python.pkg.dev/colab-wheels/public/simple/\n",
            "Requirement already satisfied: kmeans-pytorch in /usr/local/lib/python3.7/dist-packages (0.3)\n"
          ]
        }
      ]
    },
    {
      "cell_type": "code",
      "execution_count": null,
      "id": "184b3954",
      "metadata": {
        "id": "184b3954"
      },
      "outputs": [],
      "source": [
        "import torch\n",
        "import torch.nn as nn\n",
        "import torch.nn.functional as F\n",
        "import numpy as np\n",
        "import torchvision\n",
        "from torch.utils.data import Dataset, DataLoader\n",
        "import math\n",
        "from kmeans_pytorch import kmeans, kmeans_predict"
      ]
    },
    {
      "cell_type": "code",
      "source": [
        "xy = np.loadtxt('./sample_data/wine.csv', delimiter=',', dtype=np.float32, skiprows=1)\n",
        "n_samples,n_features = xy.shape\n",
        "x = torch.from_numpy(xy[:, :])\n",
        "x=x[torch.randperm(x.size()[0])] \n",
        "# size [n_samples, n_features]\n",
        "x_data=x[:,1:]\n",
        "y_data = x[:, [0]] # size [n_samples, 1]\n",
        "#x=x[torch.randperm(x.size()[0])]\n",
        "print(n_samples,n_features)\n",
        "#print(y_data)\n",
        "print (x)"
      ],
      "metadata": {
        "id": "1WBKfxlL-OX0",
        "colab": {
          "base_uri": "https://localhost:8080/"
        },
        "outputId": "cb8e1d4c-2dcc-4c19-ec6f-ea0109bacc32"
      },
      "id": "1WBKfxlL-OX0",
      "execution_count": null,
      "outputs": [
        {
          "output_type": "stream",
          "name": "stdout",
          "text": [
            "178 14\n",
            "tensor([[2.0000e+00, 1.2370e+01, 1.0700e+00,  ..., 1.0400e+00, 2.7700e+00,\n",
            "         6.6000e+02],\n",
            "        [3.0000e+00, 1.2810e+01, 2.3100e+00,  ..., 6.6000e-01, 1.3600e+00,\n",
            "         5.6000e+02],\n",
            "        [2.0000e+00, 1.2340e+01, 2.4500e+00,  ..., 8.0000e-01, 3.3800e+00,\n",
            "         4.3800e+02],\n",
            "        ...,\n",
            "        [1.0000e+00, 1.3710e+01, 1.8600e+00,  ..., 1.1100e+00, 4.0000e+00,\n",
            "         1.0350e+03],\n",
            "        [3.0000e+00, 1.2700e+01, 3.5500e+00,  ..., 7.8000e-01, 1.2900e+00,\n",
            "         6.0000e+02],\n",
            "        [1.0000e+00, 1.3280e+01, 1.6400e+00,  ..., 1.0900e+00, 2.7800e+00,\n",
            "         8.8000e+02]])\n"
          ]
        }
      ]
    },
    {
      "cell_type": "code",
      "source": [
        "xtest = x_data[148:179,:]\n",
        "xtrain = x_data[:148,:]\n",
        "ytest = y_data[148:179,:]\n",
        "ytrain = y_data[:148,:]\n",
        "\n",
        "print(xtest.shape)\n",
        "print(xtrain.shape)\n",
        "print(ytest.shape)\n",
        "print(ytrain.shape)"
      ],
      "metadata": {
        "colab": {
          "base_uri": "https://localhost:8080/"
        },
        "id": "Pt5yJ0M5PU7B",
        "outputId": "63faf921-08f2-4e2a-82c7-b9de25e69b08"
      },
      "id": "Pt5yJ0M5PU7B",
      "execution_count": null,
      "outputs": [
        {
          "output_type": "stream",
          "name": "stdout",
          "text": [
            "torch.Size([30, 13])\n",
            "torch.Size([148, 13])\n",
            "torch.Size([30, 1])\n",
            "torch.Size([148, 1])\n"
          ]
        }
      ]
    },
    {
      "cell_type": "code",
      "source": [
        "cluster_ids_x, cluster_centers = kmeans(\n",
        "    X=xtrain, num_clusters=3\n",
        ")\n",
        "cluster_ids_x=cluster_ids_x.reshape(148,1)\n",
        "print(cluster_ids_x.shape)\n",
        "print(ytrain.shape)\n",
        "#print(cluster_centers)"
      ],
      "metadata": {
        "colab": {
          "base_uri": "https://localhost:8080/"
        },
        "id": "cg0p0TLlm7vP",
        "outputId": "ad586543-f89d-4186-94b5-1d7d7a1e3163"
      },
      "id": "cg0p0TLlm7vP",
      "execution_count": null,
      "outputs": [
        {
          "output_type": "stream",
          "name": "stdout",
          "text": [
            "running k-means on cpu..\n"
          ]
        },
        {
          "output_type": "stream",
          "name": "stderr",
          "text": [
            "[running kmeans]: 7it [00:00, 290.68it/s, center_shift=0.000000, iteration=7, tol=0.000100]"
          ]
        },
        {
          "output_type": "stream",
          "name": "stdout",
          "text": [
            "torch.Size([148, 1])\n",
            "torch.Size([148, 1])\n"
          ]
        },
        {
          "output_type": "stream",
          "name": "stderr",
          "text": [
            "\n"
          ]
        }
      ]
    },
    {
      "cell_type": "code",
      "execution_count": null,
      "id": "5c2a2e0b",
      "metadata": {
        "id": "5c2a2e0b"
      },
      "outputs": [],
      "source": [
        "class DAE(nn.Module):\n",
        "\n",
        "    def __init__(self):\n",
        "        super(DAE, self).__init__()\n",
        "        \n",
        "        self.fc1 = nn.Linear(13, 30)  \n",
        "        self.fc2 = nn.Linear(30, 20)\n",
        "        self.fc3 = nn.Linear(20, 10)\n",
        "        self.fc4 = nn.Linear(10, 6)\n",
        "        \n",
        "        self.fcr4 = nn.Linear(30, 13)  \n",
        "        self.fcr3 = nn.Linear(20, 30)\n",
        "        self.fcr2 = nn.Linear(10, 20)\n",
        "        self.fcr1 = nn.Linear(6, 10)\n",
        "        self.droput = nn.Dropout(0.2)\n",
        "\n",
        "    \n",
        "    \n",
        "    def forward(self, x):\n",
        "        x = F.relu(self.fc1(x))\n",
        "        x = F.relu(self.fc2(x))\n",
        "        x = F.relu(self.fc3(x))\n",
        "        x = F.relu(self.fc4(x))\n",
        "        \n",
        "        x = F.relu(self.fcr1(x))\n",
        "        x = F.relu(self.fcr2(x))\n",
        "        x = F.relu(self.fcr3(x))\n",
        "        x = (self.fcr4(x))\n",
        "        return (x)\n",
        "\n"
      ]
    },
    {
      "cell_type": "code",
      "source": [
        "model = DAE()\n",
        "optimizer = torch.optim.Adam(model.parameters(),lr=0.0001)\n",
        "loss=nn.MSELoss()"
      ],
      "metadata": {
        "id": "R9mLFD1uQzqQ"
      },
      "id": "R9mLFD1uQzqQ",
      "execution_count": null,
      "outputs": []
    },
    {
      "cell_type": "code",
      "source": [
        "#print(model(train[1]))"
      ],
      "metadata": {
        "id": "t9CwPwdSdRB-"
      },
      "id": "t9CwPwdSdRB-",
      "execution_count": null,
      "outputs": []
    },
    {
      "cell_type": "code",
      "source": [
        "#print(model(xtrain))\n",
        "#print(loss(model(xtrain),ytrain))"
      ],
      "metadata": {
        "id": "PQ-T192ZqPjc"
      },
      "id": "PQ-T192ZqPjc",
      "execution_count": null,
      "outputs": []
    },
    {
      "cell_type": "code",
      "source": [
        "for epoch in range(500):\n",
        "  y_pred=model(xtrain)\n",
        "  l=loss(y_pred,ytrain)\n",
        "  optimizer.zero_grad()\n",
        "  l.backward()\n",
        "  optimizer.step()\n",
        "  if epoch%50==0:\n",
        "    print(l)"
      ],
      "metadata": {
        "colab": {
          "base_uri": "https://localhost:8080/"
        },
        "id": "uJXby5YnSAZ5",
        "outputId": "7fb5d5b5-78fc-48e6-dd4b-7b46365b0b59"
      },
      "id": "uJXby5YnSAZ5",
      "execution_count": null,
      "outputs": [
        {
          "output_type": "stream",
          "name": "stdout",
          "text": [
            "tensor(0.9354, grad_fn=<MseLossBackward0>)\n",
            "tensor(0.6834, grad_fn=<MseLossBackward0>)\n",
            "tensor(0.5037, grad_fn=<MseLossBackward0>)\n",
            "tensor(0.4195, grad_fn=<MseLossBackward0>)\n",
            "tensor(0.3781, grad_fn=<MseLossBackward0>)\n",
            "tensor(0.3529, grad_fn=<MseLossBackward0>)\n",
            "tensor(0.3382, grad_fn=<MseLossBackward0>)\n",
            "tensor(0.3265, grad_fn=<MseLossBackward0>)\n",
            "tensor(0.3178, grad_fn=<MseLossBackward0>)\n",
            "tensor(0.3104, grad_fn=<MseLossBackward0>)\n"
          ]
        }
      ]
    },
    {
      "cell_type": "code",
      "source": [
        "print(model(xtest[5]))\n",
        "print(xtest[5])"
      ],
      "metadata": {
        "id": "Pq0SB78oceLZ",
        "colab": {
          "base_uri": "https://localhost:8080/"
        },
        "outputId": "8b1fea5c-4209-4eca-bda5-294b1b692c02"
      },
      "id": "Pq0SB78oceLZ",
      "execution_count": null,
      "outputs": [
        {
          "output_type": "stream",
          "name": "stdout",
          "text": [
            "tensor([1.2687, 1.0776, 1.0025, 0.8840, 1.0105, 1.0794, 0.9130, 0.8566, 1.2304,\n",
            "        1.0096, 0.9372, 0.9465, 0.9461], grad_fn=<AddBackward0>)\n",
            "tensor([1.2850e+01, 1.6000e+00, 2.5200e+00, 1.7800e+01, 9.5000e+01, 2.4800e+00,\n",
            "        2.3700e+00, 2.6000e-01, 1.4600e+00, 3.9300e+00, 1.0900e+00, 3.6300e+00,\n",
            "        1.0150e+03])\n"
          ]
        }
      ]
    }
  ],
  "metadata": {
    "kernelspec": {
      "display_name": "Python 3 (ipykernel)",
      "language": "python",
      "name": "python3"
    },
    "language_info": {
      "codemirror_mode": {
        "name": "ipython",
        "version": 3
      },
      "file_extension": ".py",
      "mimetype": "text/x-python",
      "name": "python",
      "nbconvert_exporter": "python",
      "pygments_lexer": "ipython3",
      "version": "3.9.12"
    },
    "colab": {
      "provenance": []
    },
    "accelerator": "GPU",
    "gpuClass": "standard"
  },
  "nbformat": 4,
  "nbformat_minor": 5
}